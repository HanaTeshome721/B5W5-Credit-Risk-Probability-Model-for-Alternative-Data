{
 "cells": [
  {
   "cell_type": "code",
   "execution_count": 14,
   "id": "da2a4cc6",
   "metadata": {},
   "outputs": [
    {
     "name": "stdout",
     "output_type": "stream",
     "text": [
      "Files in current directory: ['1.0-eda.ipynb', '2.0-feature-engineering.ipynb']\n",
      "(95662, 21)\n",
      "[[ 0.16461759 -0.19511258 -0.13544435 -0.44613154  0.73289095  0.56869686\n",
      "   0.84868424 -0.99424624  0.          1.          0.          0.\n",
      "   1.          0.          0.          0.          0.          0.\n",
      "   0.          0.          0.        ]\n",
      " [ 0.16461759 -0.19511258 -0.13544435 -0.44613154  0.73289095  0.56869686\n",
      "   0.84868424 -0.99424624  0.          1.          0.          0.\n",
      "   1.          0.          0.          0.          0.          0.\n",
      "   0.          0.          0.        ]\n",
      " [ 0.16599358 -0.03171976 -0.12799635 -0.44157898 -1.12395102  0.01083395\n",
      "   0.84868424 -0.99424624  0.          0.          1.          0.\n",
      "   0.          0.          1.          0.          0.          0.\n",
      "   0.          0.          0.        ]\n",
      " [ 0.16599358 -0.03171976 -0.12799635 -0.44157898 -0.91763524  0.01083395\n",
      "   0.84868424 -0.99424624  0.          0.          1.          0.\n",
      "   0.          0.          1.          0.          0.          0.\n",
      "   0.          0.          0.        ]\n",
      " [ 0.16599358 -0.03171976 -0.12799635 -0.44157898 -0.91763524  0.01083395\n",
      "   0.84868424 -0.99424624  0.          0.          1.          0.\n",
      "   0.          0.          1.          0.          0.          0.\n",
      "   0.          0.          0.        ]]\n"
     ]
    }
   ],
   "source": [
    "\n",
    "import os\n",
    "import pandas as pd\n",
    "from src.data_processing import build_pipeline\n",
    "\n",
    "# List files in current and data/raw directories to help debug file path\n",
    "print(\"Files in current directory:\", os.listdir('.'))\n",
    "if os.path.exists('data/raw'):\n",
    "\tprint(\"Files in data/raw directory:\", os.listdir('data/raw'))\n",
    "\n",
    "# Update the path below if your file is not in data/raw/\n",
    "df = pd.read_csv(\"../data/raw/data.csv\")\n",
    "\n",
    "# Run feature pipeline\n",
    "X_transformed = build_pipeline(df)\n",
    "\n",
    "# View result\n",
    "print(X_transformed.shape)\n",
    "print(X_transformed[:5])  # first 5 rows\n"
   ]
  }
 ],
 "metadata": {
  "kernelspec": {
   "display_name": ".venv",
   "language": "python",
   "name": "python3"
  },
  "language_info": {
   "codemirror_mode": {
    "name": "ipython",
    "version": 3
   },
   "file_extension": ".py",
   "mimetype": "text/x-python",
   "name": "python",
   "nbconvert_exporter": "python",
   "pygments_lexer": "ipython3",
   "version": "3.12.6"
  }
 },
 "nbformat": 4,
 "nbformat_minor": 5
}
